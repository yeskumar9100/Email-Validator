{
  "nbformat": 4,
  "nbformat_minor": 0,
  "metadata": {
    "colab": {
      "provenance": []
    },
    "kernelspec": {
      "name": "python3",
      "display_name": "Python 3"
    },
    "language_info": {
      "name": "python"
    }
  },
  "cells": [
    {
      "cell_type": "code",
      "source": [
        "#Email validate"
      ],
      "metadata": {
        "id": "qBRXtTuLXy9v"
      },
      "execution_count": 21,
      "outputs": []
    },
    {
      "cell_type": "code",
      "source": [
        "def Email_Validator(email):\n",
        "    if len(email) > 256:\n",
        "        return 0\n",
        "    if '@' in email:\n",
        "        if email.count('@') > 1:\n",
        "            return 0\n",
        "    else:\n",
        "        return 0\n",
        "\n",
        "    local, domain = email.split('@')\n",
        "\n",
        "\n",
        "    status_local = 1 if len(local) <= 64 else 0\n",
        "    status_domain = 1 if len(domain) <= 255 else 0\n",
        "\n",
        "    if status_local == 1 and status_domain == 1:\n",
        "        return 1\n",
        "    else:\n",
        "        return 0\n",
        "\n",
        "\n"
      ],
      "metadata": {
        "id": "ev6ZfT9vUlK4"
      },
      "execution_count": 36,
      "outputs": []
    },
    {
      "cell_type": "code",
      "source": [
        "email = \"yeskumargmail.com\"\n",
        "status = Email_Validator(email)\n",
        "\n",
        "if status == 1:\n",
        "    print('VALID')\n",
        "else:\n",
        "    print('INVALID')\n"
      ],
      "metadata": {
        "colab": {
          "base_uri": "https://localhost:8080/"
        },
        "id": "ojD34FZAUkH7",
        "outputId": "9eb1f861-47ac-45f0-89ca-e5d2b98a4a80"
      },
      "execution_count": 38,
      "outputs": [
        {
          "output_type": "stream",
          "name": "stdout",
          "text": [
            "INVALID\n"
          ]
        }
      ]
    },
    {
      "cell_type": "code",
      "source": [
        "def validate_Local(local):\n",
        "    if len(local) <= 64:\n",
        "        return 1\n",
        "    else:\n",
        "        return 0"
      ],
      "metadata": {
        "id": "9f5K2B5AyO9k"
      },
      "execution_count": 20,
      "outputs": []
    },
    {
      "cell_type": "code",
      "source": [
        "def validate_domain(domian):\n",
        "    if len(domain) <= 256:\n",
        "        return 1\n",
        "    else:\n",
        "        return 0"
      ],
      "metadata": {
        "id": "hZE13EadV65O"
      },
      "execution_count": 33,
      "outputs": []
    },
    {
      "cell_type": "code",
      "source": [
        "# Password validation"
      ],
      "metadata": {
        "id": "n5S9S5qlaibu"
      },
      "execution_count": 32,
      "outputs": []
    },
    {
      "cell_type": "code",
      "source": [
        "def is_valid_password(password):\n",
        "    if len(password) < 8:\n",
        "        return False\n",
        "    if not any(char.islower() for char in password):\n",
        "        return False\n",
        "    if not any(char.isupper() for char in password):\n",
        "        return False\n",
        "    if not any(char.isdigit() for char in password):\n",
        "        return False\n",
        "    if not any(char in \"!@#$%^&*()-+=\" for char in password):\n",
        "        return False\n",
        "\n",
        "    return True\n",
        "\n",
        "    password = \"Yeskumar123!\"\n",
        "if is_valid_password(password):\n",
        "    print('password is valid')\n",
        "else:\n",
        "    print('password is invalid')"
      ],
      "metadata": {
        "colab": {
          "base_uri": "https://localhost:8080/"
        },
        "id": "hd_pr_UoX-hR",
        "outputId": "5fee805f-10d0-4717-d083-8684e4697503"
      },
      "execution_count": 41,
      "outputs": [
        {
          "output_type": "stream",
          "name": "stdout",
          "text": [
            "password is valid\n"
          ]
        }
      ]
    }
  ]
}